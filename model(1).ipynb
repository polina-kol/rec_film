{
 "cells": [
  {
   "cell_type": "code",
   "execution_count": 1,
   "metadata": {},
   "outputs": [
    {
     "name": "stderr",
     "output_type": "stream",
     "text": [
      "/home/polina/miniforge3/envs/fixed_env/lib/python3.10/site-packages/tqdm/auto.py:21: TqdmWarning: IProgress not found. Please update jupyter and ipywidgets. See https://ipywidgets.readthedocs.io/en/stable/user_install.html\n",
      "  from .autonotebook import tqdm as notebook_tqdm\n",
      "2025-06-19 14:34:27.084360: I tensorflow/core/util/port.cc:153] oneDNN custom operations are on. You may see slightly different numerical results due to floating-point round-off errors from different computation orders. To turn them off, set the environment variable `TF_ENABLE_ONEDNN_OPTS=0`.\n",
      "2025-06-19 14:34:27.270165: E external/local_xla/xla/stream_executor/cuda/cuda_fft.cc:467] Unable to register cuFFT factory: Attempting to register factory for plugin cuFFT when one has already been registered\n",
      "WARNING: All log messages before absl::InitializeLog() is called are written to STDERR\n",
      "E0000 00:00:1750332867.340826    7064 cuda_dnn.cc:8579] Unable to register cuDNN factory: Attempting to register factory for plugin cuDNN when one has already been registered\n",
      "E0000 00:00:1750332867.360297    7064 cuda_blas.cc:1407] Unable to register cuBLAS factory: Attempting to register factory for plugin cuBLAS when one has already been registered\n",
      "W0000 00:00:1750332867.521281    7064 computation_placer.cc:177] computation placer already registered. Please check linkage and avoid linking the same target more than once.\n",
      "W0000 00:00:1750332867.521319    7064 computation_placer.cc:177] computation placer already registered. Please check linkage and avoid linking the same target more than once.\n",
      "W0000 00:00:1750332867.521321    7064 computation_placer.cc:177] computation placer already registered. Please check linkage and avoid linking the same target more than once.\n",
      "W0000 00:00:1750332867.521323    7064 computation_placer.cc:177] computation placer already registered. Please check linkage and avoid linking the same target more than once.\n",
      "2025-06-19 14:34:27.538780: I tensorflow/core/platform/cpu_feature_guard.cc:210] This TensorFlow binary is optimized to use available CPU instructions in performance-critical operations.\n",
      "To enable the following instructions: AVX2 AVX512F AVX512_VNNI FMA, in other operations, rebuild TensorFlow with the appropriate compiler flags.\n"
     ]
    }
   ],
   "source": [
    "import pandas as pd \n",
    "from sentence_transformers import SentenceTransformer\n",
    "from sklearn.metrics.pairwise import cosine_similarity\n",
    "import numpy as np\n",
    "import faiss\n"
   ]
  },
  {
   "cell_type": "code",
   "execution_count": 2,
   "metadata": {},
   "outputs": [],
   "source": [
    "df = pd.read_csv(\"movies_list.csv\")"
   ]
  },
  {
   "cell_type": "code",
   "execution_count": 3,
   "metadata": {},
   "outputs": [
    {
     "data": {
      "text/html": [
       "<div>\n",
       "<style scoped>\n",
       "    .dataframe tbody tr th:only-of-type {\n",
       "        vertical-align: middle;\n",
       "    }\n",
       "\n",
       "    .dataframe tbody tr th {\n",
       "        vertical-align: top;\n",
       "    }\n",
       "\n",
       "    .dataframe thead th {\n",
       "        text-align: right;\n",
       "    }\n",
       "</style>\n",
       "<table border=\"1\" class=\"dataframe\">\n",
       "  <thead>\n",
       "    <tr style=\"text-align: right;\">\n",
       "      <th></th>\n",
       "      <th>year</th>\n",
       "      <th>genre</th>\n",
       "      <th>director</th>\n",
       "      <th>time</th>\n",
       "      <th>page_url</th>\n",
       "      <th>movie_title</th>\n",
       "      <th>description</th>\n",
       "      <th>image_url</th>\n",
       "      <th>time_minutes</th>\n",
       "    </tr>\n",
       "  </thead>\n",
       "  <tbody>\n",
       "    <tr>\n",
       "      <th>0</th>\n",
       "      <td>1994</td>\n",
       "      <td>драма</td>\n",
       "      <td>Фрэнк Дарабонт</td>\n",
       "      <td>1 час 48 минут</td>\n",
       "      <td>https://www.film.ru/movies/pobeg-iz-shoushenka</td>\n",
       "      <td>Побег из Шоушенка</td>\n",
       "      <td>Банкира Энди Дюфрейна обвиняют в убийстве жены...</td>\n",
       "      <td>https://www.film.ru/sites/default/files/styles...</td>\n",
       "      <td>108</td>\n",
       "    </tr>\n",
       "    <tr>\n",
       "      <th>1</th>\n",
       "      <td>1994</td>\n",
       "      <td>драма</td>\n",
       "      <td>Квентин Тарантино</td>\n",
       "      <td>2 часа 19 минут</td>\n",
       "      <td>https://www.film.ru/movies/kriminalnoe-chtivo</td>\n",
       "      <td>Криминальное чтиво</td>\n",
       "      <td>Знаковый фильм Квентина Тарантино в новом рема...</td>\n",
       "      <td>https://www.film.ru/sites/default/files/styles...</td>\n",
       "      <td>139</td>\n",
       "    </tr>\n",
       "    <tr>\n",
       "      <th>2</th>\n",
       "      <td>1991</td>\n",
       "      <td>драма</td>\n",
       "      <td>Джонатан Демме</td>\n",
       "      <td>1 час 58 минут</td>\n",
       "      <td>https://www.film.ru/movies/molchanie-yagnyat</td>\n",
       "      <td>Молчание ягнят</td>\n",
       "      <td>Психопат похищает и убивает молодых женщин по ...</td>\n",
       "      <td>https://www.film.ru/sites/default/files/styles...</td>\n",
       "      <td>118</td>\n",
       "    </tr>\n",
       "    <tr>\n",
       "      <th>3</th>\n",
       "      <td>2001</td>\n",
       "      <td>мультфильмы</td>\n",
       "      <td>Хаяо Миядзаки</td>\n",
       "      <td>2 часа 5 минут</td>\n",
       "      <td>https://www.film.ru/movies/unesennye-prizrakami</td>\n",
       "      <td>Унесенные призраками</td>\n",
       "      <td>Маленькая Тихиро вместе с мамой и папой переез...</td>\n",
       "      <td>https://www.film.ru/sites/default/files/styles...</td>\n",
       "      <td>125</td>\n",
       "    </tr>\n",
       "    <tr>\n",
       "      <th>4</th>\n",
       "      <td>1985</td>\n",
       "      <td>комедия</td>\n",
       "      <td>Роберт Земекис</td>\n",
       "      <td>1 час 48 минут</td>\n",
       "      <td>https://www.film.ru/movies/nazad-v-budushchee</td>\n",
       "      <td>Назад в будущее</td>\n",
       "      <td>Марти МакФлай, типичный американский тинейджер...</td>\n",
       "      <td>https://www.film.ru/sites/default/files/styles...</td>\n",
       "      <td>108</td>\n",
       "    </tr>\n",
       "  </tbody>\n",
       "</table>\n",
       "</div>"
      ],
      "text/plain": [
       "   year        genre           director             time  \\\n",
       "0  1994        драма     Фрэнк Дарабонт   1 час 48 минут   \n",
       "1  1994        драма  Квентин Тарантино  2 часа 19 минут   \n",
       "2  1991        драма     Джонатан Демме   1 час 58 минут   \n",
       "3  2001  мультфильмы      Хаяо Миядзаки   2 часа 5 минут   \n",
       "4  1985      комедия     Роберт Земекис   1 час 48 минут   \n",
       "\n",
       "                                          page_url           movie_title  \\\n",
       "0   https://www.film.ru/movies/pobeg-iz-shoushenka     Побег из Шоушенка   \n",
       "1    https://www.film.ru/movies/kriminalnoe-chtivo    Криминальное чтиво   \n",
       "2     https://www.film.ru/movies/molchanie-yagnyat        Молчание ягнят   \n",
       "3  https://www.film.ru/movies/unesennye-prizrakami  Унесенные призраками   \n",
       "4    https://www.film.ru/movies/nazad-v-budushchee       Назад в будущее   \n",
       "\n",
       "                                         description  \\\n",
       "0  Банкира Энди Дюфрейна обвиняют в убийстве жены...   \n",
       "1  Знаковый фильм Квентина Тарантино в новом рема...   \n",
       "2  Психопат похищает и убивает молодых женщин по ...   \n",
       "3  Маленькая Тихиро вместе с мамой и папой переез...   \n",
       "4  Марти МакФлай, типичный американский тинейджер...   \n",
       "\n",
       "                                           image_url  time_minutes  \n",
       "0  https://www.film.ru/sites/default/files/styles...           108  \n",
       "1  https://www.film.ru/sites/default/files/styles...           139  \n",
       "2  https://www.film.ru/sites/default/files/styles...           118  \n",
       "3  https://www.film.ru/sites/default/files/styles...           125  \n",
       "4  https://www.film.ru/sites/default/files/styles...           108  "
      ]
     },
     "execution_count": 3,
     "metadata": {},
     "output_type": "execute_result"
    }
   ],
   "source": [
    "df.head()"
   ]
  },
  {
   "cell_type": "code",
   "execution_count": null,
   "metadata": {},
   "outputs": [
    {
     "name": "stderr",
     "output_type": "stream",
     "text": [
      "/home/polina/miniforge3/envs/fixed_env/lib/python3.10/site-packages/huggingface_hub/file_download.py:943: FutureWarning: `resume_download` is deprecated and will be removed in version 1.0.0. Downloads always resume when possible. If you want to force a new download, use `force_download=True`.\n",
      "  warnings.warn(\n"
     ]
    }
   ],
   "source": [
    "model = SentenceTransformer(\"sentence-transformers/paraphrase-multilingual-MiniLM-L12-v2\") "
   ]
  },
  {
   "cell_type": "code",
   "execution_count": 4,
   "metadata": {},
   "outputs": [
    {
     "data": {
      "application/vnd.jupyter.widget-view+json": {
       "model_id": "5f792b15cff14584a59b66ebfae9a779",
       "version_major": 2,
       "version_minor": 0
      },
      "text/plain": [
       "Batches:   0%|          | 0/493 [00:00<?, ?it/s]"
      ]
     },
     "metadata": {},
     "output_type": "display_data"
    }
   ],
   "source": [
    "embeddings = model.encode(df['description'].tolist(),show_progress_bar=True)"
   ]
  },
  {
   "cell_type": "code",
   "execution_count": 5,
   "metadata": {},
   "outputs": [],
   "source": [
    "embeddings = np.array(embeddings).astype(\"float32\")"
   ]
  },
  {
   "cell_type": "code",
   "execution_count": 6,
   "metadata": {},
   "outputs": [],
   "source": [
    "index = faiss.IndexFlatL2(embeddings.shape[1])\n",
    "index.add(embeddings)"
   ]
  },
  {
   "cell_type": "code",
   "execution_count": 20,
   "metadata": {},
   "outputs": [
    {
     "name": "stdout",
     "output_type": "stream",
     "text": [
      "\n",
      "🎬 Название: Шазам!\n",
      "«Шаза́м!» (англ. Shazam!) — американский комедийный супергеройский фильм 2019 года режиссёра Дэвида Ф. Сандберга, основанный на одноимённом персонаже комиксов DC. Автором сценария выступил Генри Гейден, также работавший над сюжетом совместно с Дарреном Лемке. Кинокомикс является седьмым фильмом Расширенной вселенной DC. Главные роли исполнили Закари Ливай и Ашер Энджел; в фильме также снялись Марк Стронг, Джек Дилан Грейзер и Джимон Хонсу.\n",
      "Проект находился в разработке с начала 2000-х годов, одн...\n",
      "\n",
      "🎬 Название: Пацан против всех\n",
      "«Пацан против всех» (англ. Boy Kills World) — художественный фильм режиссёра Морица Мора. Продюсируют фильм Сэм Рэйми и Рой Ли. Главные роли исполнили Билл Скарсгард, Джессика Рот и Эндрю Кодзи. Съёмки проходили в Южной Африке.\n",
      "Мировая премьера фильма состоялась на Международном кинофестивале в Торонто 9 сентября 2023 года. В США фильм вышел 26 апреля 2024 года. В России фильм вышел 16 мая 2024 года....\n",
      "\n",
      "🎬 Название: Приключения Реми\n",
      "None\n",
      "\n",
      "🎬 Название: Уиллоу\n",
      "«Уи́ллоу», «Виллоу» (англ. Willow, [ˈwɪloʊ] — «ива») — кинофильм режиссёра Рона Ховарда по сюжету Джорджа Лукаса, тринадцатая полнометражная картина «Lucasfilm». Несмотря на то, что фильм получил две номинации на «Оскар» и пять номинаций на «Сатурн», он собрал не очень хорошую кассу.\n",
      "Лукас задумывал фильм как начало тетралогии, но кассовый провал вынудил его свернуть планы на последующие части, хотя в 1995, 1996 и 2000 годах он в соавторстве с Крисом Клэрмонтом выпустил трилогию сиквелов в виде ...\n",
      "\n",
      "🎬 Название: Щелкунчик\n",
      "«Щелку́нчик» — соч. 71, двухактный балет П. И. Чайковского на либретто Мариуса Петипа по мотивам сказки Э. Т. А. Гофмана «Щелкунчик и Мышиный король», балетмейстер-постановщик Лев Иванов....\n",
      "\n",
      "🎬 Название: Плюшевый монстр\n",
      "None\n",
      "\n",
      "🎬 Название: Горшочек каши\n",
      "«Горшо́чек ка́ши» — советский рисованный мультипликационный фильм, выпущенный студией «Союзмультфильм» в 1984 году. Мультфильм снят по мотивам сказки братьев Гримм....\n",
      "\n",
      "🎬 Название: Мальчик и птица\n",
      "«Ма́льчик и пти́ца» (яп. 君たちはどう生きるか Кимитати ва до: икиру ка?, букв. «Как пожива́ете?») — полнометражный аниме-фильм режиссёра Хаяо Миядзаки. Оригинальное название взято из одноимённой книги Ёсино Гэндзабуро 1937 года, однако сюжет фильма никак не связан с романом. В североамериканском прокате фильм получил название «Мальчик и цапля» (англ. The Boy and the Heron).\n",
      "В основе сюжета — история мальчика по имени Махито Маки, который обнаруживает заброшенную башню в своём новом городе и попадает в фан...\n",
      "\n",
      "🎬 Название: Ниндзя в клеточку\n",
      "None\n"
     ]
    }
   ],
   "source": [
    "# Запрос пользователя\n",
    "user_query = \"Мальчик волшебник с волшебной палочкой\"\n",
    "query_vector = model.encode([user_query],convert_to_numpy=True).astype(\"float32\")\n",
    "\n",
    "# Векторизуем запрос\n",
    "#query_embedding = model.encode([user_query])\n",
    "\n",
    "# Считаем схожесть запроса с каждым сериалом\n",
    "#similarities = cosine_similarity(query_embedding, embeddings)[0]  # получаем 1D-массив\n",
    "\n",
    "# Получим индексы топ-5 самых похожих сериалов\n",
    "#top_n = 5\n",
    "#top_indices = similarities.argsort()[-top_n:][::-1]  # сортировка по убыванию\n",
    "\n",
    "# Выводим названия и описания похожих сериалов\n",
    "# for i in top_indices:\n",
    "#     print(f\"\\n🎬 Название: {df.iloc[i]['tvshow_title']}\")\n",
    "#     print(f\"📄 Описание: {df.iloc[i]['description']}\")\n",
    "#     print(f\"🔍 Схожесть: {similarities[i]:.3f}\")\n",
    "\n",
    "k = 9\n",
    "distances, indices = index.search(query_vector, k)\n",
    "\n",
    "# Выводим результаты\n",
    "for i in indices[0]:\n",
    "    print(f\"\\n🎬 Название: {df.iloc[i]['movie_title']}\")\n",
    "    print(get_wikipedia_summary(df.iloc[i]['movie_title'], year=None, lang='ru'))\n",
    "    # print(f\"📄 Описание: {df.iloc[i]['description']}\")"
   ]
  },
  {
   "cell_type": "code",
   "execution_count": 8,
   "metadata": {},
   "outputs": [],
   "source": [
    "np.save(\"movie_vectors.npy\", embeddings)\n",
    "faiss.write_index(index, \"index.bin\")"
   ]
  },
  {
   "cell_type": "code",
   "execution_count": 14,
   "metadata": {},
   "outputs": [],
   "source": [
    "title = 'Шазам!'\n",
    "year = '2019'"
   ]
  },
  {
   "cell_type": "code",
   "execution_count": 17,
   "metadata": {},
   "outputs": [],
   "source": [
    "import wikipediaapi\n",
    "from bs4 import BeautifulSoup\n",
    "import re\n",
    "\n",
    "def get_wikipedia_summary(title, year=None, lang='ru'):\n",
    "    \"\"\"\n",
    "    Получение краткого содержания с Википедии\n",
    "    с указанием пользовательского агента\n",
    "    \"\"\"\n",
    "    # Указываем корректный User-Agent\n",
    "    user_agent = \"MovieRecommendationBot/1.0 (https://your-project-url.com; contact@example.com)\"\n",
    "    wiki_wiki = wikipediaapi.Wikipedia(\n",
    "        language=lang,\n",
    "        user_agent=user_agent\n",
    "    )\n",
    "    \n",
    "    # Пытаемся найти страницу с уточнением года\n",
    "    search_title = f\"{title} (фильм, {year})\" if year else title\n",
    "    page = wiki_wiki.page(search_title)\n",
    "    \n",
    "    if not page.exists():\n",
    "        # Пробуем без года\n",
    "        page = wiki_wiki.page(title)\n",
    "        if not page.exists():\n",
    "            return None\n",
    "    \n",
    "    # Пытаемся получить раздел \"Сюжет\" через API\n",
    "    section_titles = [\"Сюжет\", \"Содержание\", \"Фабула\", \"Plot\"]\n",
    "    plot_section = None\n",
    "    \n",
    "    for section in section_titles:\n",
    "        if section in page.sections:\n",
    "            plot_section = page.section_by_title(section)\n",
    "            if plot_section:\n",
    "                return plot_section.text\n",
    "    \n",
    "    # Если раздел не найден, возвращаем краткое описание страницы\n",
    "    \n",
    "    return page.summary[:500] + \"...\""
   ]
  },
  {
   "cell_type": "code",
   "execution_count": 19,
   "metadata": {},
   "outputs": [
    {
     "data": {
      "text/plain": [
       "503"
      ]
     },
     "execution_count": 19,
     "metadata": {},
     "output_type": "execute_result"
    }
   ],
   "source": [
    "get_wikipedia_summary(title, year=None, lang='ru')\n",
    "len(get_wikipedia_summary(title, year=None, lang='ru'))"
   ]
  },
  {
   "cell_type": "code",
   "execution_count": null,
   "metadata": {},
   "outputs": [],
   "source": [
    "# Кеш для хранения уже полученных сюжетов\n",
    "plot_cache = {}\n",
    "\n",
    "def recommend_movies_with_plot(movie_title, top_n=5, source='wikipedia'):\n",
    "    if movie_title not in df[\"movie_title\"].values:\n",
    "        return \"Фильм не найден в базе\"\n",
    "    \n",
    "    idx = df[df[\"movie_title\"] == movie_title].index[0]\n",
    "    sim_scores = list(enumerate(cosine_sim[idx]))\n",
    "    sim_scores = sorted(sim_scores, key=lambda x: x[1], reverse=True)\n",
    "    sim_scores = sim_scores[1:top_n+1]\n",
    "    movie_indices = [i[0] for i in sim_scores]\n",
    "    \n",
    "    recommendations = df.iloc[movie_indices].copy()\n",
    "    \n",
    "    # Добавляем сюжеты для рекомендаций\n",
    "    for i, row in recommendations.iterrows():\n",
    "        title = row['movie_title']\n",
    "        \n",
    "        # Используем кеш, чтобы не делать запросы повторно\n",
    "        if title not in plot_cache:\n",
    "            if source == 'gigachat':\n",
    "                plot_cache[title] = get_gigachat_summary(\n",
    "                    title, \n",
    "                    row['director'],\n",
    "                    row['year']\n",
    "                )\n",
    "            elif source == 'wikipedia':\n",
    "                plot_cache[title] = get_wikipedia_summary(\n",
    "                    title,\n",
    "                    row['year']\n",
    "                )\n",
    "            else:\n",
    "                plot_cache[title] = row['description']  # fallback\n",
    "        \n",
    "        recommendations.at[i, 'plot_summary'] = plot_cache[title]\n",
    "    \n",
    "    return recommendations[['movie_title', 'year', 'director', 'genre', 'plot_summary']]"
   ]
  }
 ],
 "metadata": {
  "kernelspec": {
   "display_name": "fixed_env",
   "language": "python",
   "name": "python3"
  },
  "language_info": {
   "codemirror_mode": {
    "name": "ipython",
    "version": 3
   },
   "file_extension": ".py",
   "mimetype": "text/x-python",
   "name": "python",
   "nbconvert_exporter": "python",
   "pygments_lexer": "ipython3",
   "version": "3.10.18"
  }
 },
 "nbformat": 4,
 "nbformat_minor": 2
}
